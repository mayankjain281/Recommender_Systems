{
 "cells": [
  {
   "cell_type": "code",
   "execution_count": 2,
   "id": "2a4d178f-227c-4c8b-b675-555dcc0c632f",
   "metadata": {},
   "outputs": [
    {
     "name": "stdout",
     "output_type": "stream",
     "text": [
      "/Users/mayank.jain4/Recommender_Systems/Zee Movies Recommender\n"
     ]
    }
   ],
   "source": [
    "!pwd"
   ]
  },
  {
   "cell_type": "code",
   "execution_count": 3,
   "id": "90327278-5367-4cf7-b1c4-b8e2a88073cd",
   "metadata": {},
   "outputs": [],
   "source": [
    "!git add ."
   ]
  },
  {
   "cell_type": "code",
   "execution_count": 5,
   "id": "df157c21-0549-4c3b-a06b-b570ae573c09",
   "metadata": {},
   "outputs": [
    {
     "name": "stdout",
     "output_type": "stream",
     "text": [
      "[main 920f9fa] Zee Movies Recommender\n",
      " 2 files changed, 50 insertions(+)\n",
      " create mode 100644 Zee Movies Recommender/.ipynb_checkpoints/Zee Movies Recommender-checkpoint.ipynb\n",
      " create mode 100644 Zee Movies Recommender/Zee Movies Recommender.ipynb\n"
     ]
    }
   ],
   "source": [
    "!git commit -m \"Zee Movies Recommender\""
   ]
  },
  {
   "cell_type": "code",
   "execution_count": 6,
   "id": "68f758ab-215f-4cbd-891e-a86b56488962",
   "metadata": {},
   "outputs": [
    {
     "name": "stdout",
     "output_type": "stream",
     "text": [
      "Enumerating objects: 7, done.\n",
      "Counting objects: 100% (7/7), done.\n",
      "Delta compression using up to 10 threads\n",
      "Compressing objects: 100% (6/6), done.\n",
      "Writing objects: 100% (6/6), 1.00 KiB | 1.00 MiB/s, done.\n",
      "Total 6 (delta 0), reused 0 (delta 0), pack-reused 0\n",
      "To https://github.com/mayankjain281/Recommender_Systems\n",
      "   d5c08bd..920f9fa  main -> main\n"
     ]
    }
   ],
   "source": [
    "!git push origin main"
   ]
  }
 ],
 "metadata": {
  "kernelspec": {
   "display_name": "Python 3 (ipykernel)",
   "language": "python",
   "name": "python3"
  },
  "language_info": {
   "codemirror_mode": {
    "name": "ipython",
    "version": 3
   },
   "file_extension": ".py",
   "mimetype": "text/x-python",
   "name": "python",
   "nbconvert_exporter": "python",
   "pygments_lexer": "ipython3",
   "version": "3.10.10"
  }
 },
 "nbformat": 4,
 "nbformat_minor": 5
}
